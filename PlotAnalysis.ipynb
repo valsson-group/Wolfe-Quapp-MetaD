{
 "cells": [
  {
   "cell_type": "code",
   "execution_count": null,
   "id": "6b72d419",
   "metadata": {},
   "outputs": [],
   "source": [
    "import os\n",
    "import glob\n",
    "import numpy as np\n",
    "import matplotlib.pyplot as plt"
   ]
  },
  {
   "cell_type": "code",
   "execution_count": null,
   "id": "9ae4d9ca",
   "metadata": {},
   "outputs": [],
   "source": [
    "Run=\"Wolfe-Quapp_MetaD_Bias-xy_Run-1\"\n",
    "\n",
    "fes_stride=1000\n",
    "num_fesfile=len(glob.glob(Run+\"/FES-Sumhills-Stride/fes.x.sumhills.*dat\"))\n",
    "for i in range(num_fesfile-1):  \n",
    "    time=(i+1)*fes_stride\n",
    "    fes=np.loadtxt(Run+\"/FES-Sumhills-Stride/fes.x.sumhills.{}.dat\".format(i))\n",
    "    plt.plot(fes[:,0],fes[:,1],'-',label=\"{:4d} ps\".format(time))    \n",
    "plt.xlabel(\"x\")\n",
    "plt.ylabel(\"Free Energy\")\n",
    "plt.legend()\n",
    "# plt.ylim([0,20])\n",
    "plt.show()\n",
    "\n",
    "fes_stride=1000\n",
    "num_fesfile=len(glob.glob(Run+\"/FES-Sumhills-Stride/fes.y.sumhills.*dat\"))\n",
    "for i in range(num_fesfile-1):  \n",
    "    time=(i+1)*fes_stride\n",
    "    fes=np.loadtxt(Run+\"/FES-Sumhills-Stride/fes.y.sumhills.{}.dat\".format(i))\n",
    "    plt.plot(fes[:,0],fes[:,1],'-',label=\"{:4d} ps\".format(time))    \n",
    "plt.xlabel(\"y\")\n",
    "plt.ylabel(\"Free Energy\")\n",
    "plt.legend()\n",
    "# plt.ylim([0,20])\n",
    "plt.show()\n",
    "\n",
    "\n",
    "\n",
    "\n"
   ]
  },
  {
   "cell_type": "code",
   "execution_count": null,
   "id": "04e31383",
   "metadata": {},
   "outputs": [],
   "source": [
    "Run=\"Wolfe-Quapp_MetaD_Bias-xy_Run-1\"\n",
    "\n",
    "\n",
    "TimeRangeMin = 10000\n",
    "\n",
    "fes_stride=1000\n",
    "num_fesfile=len(glob.glob(Run+\"/FES-Sumhills-Stride-MinToZero/fes.x.sumhills.*dat\"))\n",
    "for i in range(num_fesfile-1):  \n",
    "    time=(i+1)*fes_stride\n",
    "    if time <= TimeRangeMin: continue \n",
    "    fes=np.loadtxt(Run+\"/FES-Sumhills-Stride-MinToZero/fes.x.sumhills.{}.dat\".format(i))\n",
    "    plt.plot(fes[:,0],fes[:,1],'-',label=\"{:4d} ps\".format(time))    \n",
    "plt.xlabel(\"x\")\n",
    "plt.ylabel(\"Free Energy\")\n",
    "plt.legend()\n",
    "# plt.ylim([0,20])\n",
    "plt.show()\n",
    "\n",
    "fes_stride=1000\n",
    "num_fesfile=len(glob.glob(Run+\"/FES-Sumhills-Stride-MinToZero/fes.y.sumhills.*dat\"))\n",
    "for i in range(num_fesfile-1):  \n",
    "    time=(i+1)*fes_stride\n",
    "    if time <= TimeRangeMin: continue    \n",
    "    fes=np.loadtxt(Run+\"/FES-Sumhills-Stride-MinToZero/fes.y.sumhills.{}.dat\".format(i))\n",
    "    plt.plot(fes[:,0],fes[:,1],'-',label=\"{:4d} ps\".format(time))    \n",
    "plt.xlabel(\"y\")\n",
    "plt.ylabel(\"Free Energy\")\n",
    "plt.legend()\n",
    "# plt.ylim([0,20])\n",
    "plt.show()"
   ]
  },
  {
   "cell_type": "code",
   "execution_count": null,
   "id": "b6de7532",
   "metadata": {},
   "outputs": [],
   "source": []
  }
 ],
 "metadata": {
  "kernelspec": {
   "display_name": "Python 3 (ipykernel)",
   "language": "python",
   "name": "python3"
  },
  "language_info": {
   "codemirror_mode": {
    "name": "ipython",
    "version": 3
   },
   "file_extension": ".py",
   "mimetype": "text/x-python",
   "name": "python",
   "nbconvert_exporter": "python",
   "pygments_lexer": "ipython3",
   "version": "3.11.3"
  }
 },
 "nbformat": 4,
 "nbformat_minor": 5
}
